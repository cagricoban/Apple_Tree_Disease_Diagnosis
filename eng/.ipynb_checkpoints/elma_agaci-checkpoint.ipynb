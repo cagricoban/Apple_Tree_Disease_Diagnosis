{
 "cells": [
  {
   "cell_type": "markdown",
   "id": "eae4c0dd-fbba-4aec-ba33-d8f2b4d3332c",
   "metadata": {},
   "source": [
    "# Apple Tree Disease Diagnosis"
   ]
  },
  {
   "cell_type": "markdown",
   "id": "d01641e2",
   "metadata": {},
   "source": [
    "Tarımsal ürünlerin sağlık durumunun doğru bir şekilde tespiti, sürdürülebilirlik açısından son derece önemlidir. Yanlış bir hastalık tespiti, girdi maliyetlerinin artmasına, bitkinin sağlığını olumsuz etkileyen kimyasalların yanlış kullanımına ve dirençli patojen türlerinin ortaya çıkmasına neden olabilir. Bu durum, önemli ekonomik kayıplara ve çevresel etkilere yol açabilir. Bu veri setindeki amaç elma ağacının sağlık durumunu doğru bir şekilde sınıflandırmak. Veri Setimiz 4 kategorik değişkenden oluşmaktadır. Bu Değişkenler binary yapıya sahiptir. Değişkenlerimiz sağlıklı durumu, birden fazla hastalık durumu pas ve kabuk değişkenleridir."
   ]
  },
  {
   "cell_type": "markdown",
   "id": "ba024d87",
   "metadata": {},
   "source": [
    "# 1. Bölüm: KEŞİFÇİ VERİ ANALİZ\n",
    "- Veri Seti Okuma\n",
    "- Veri Seti Kolon İsimleri\n",
    "- Veri Seti Kolon İsimlerini Değiştirme\n",
    "- Veri Setinin Tanımlayıcı istatistiklerinin Transpozu alınmış hali\n",
    "- Veri Seti Tanımlayıcı İstatistiklerinin Tablo Halinde Verilmesi\n",
    "- Veri Setinin Genel Resmi\n",
    "- Veri Setinde Numerik ve Kategorik Değişkenlerin  Yakalanması \n",
    "- Kategorik değişkenlerin incelenmesi\n",
    "- Numeric Değişkenlerin İncelenmesi\n",
    "- Hedef Değişken Analizi\n",
    "- Korelasyon Analizi\n",
    "\n",
    "# 2. Bölüm: ÖZELLİK MÜHENDİSLİĞİ\n",
    "- Aykırı Değer Analizi\n",
    "- Eksik Değerler\n",
    "- Label Encoding\n",
    "- Özellik Ölçeklendirme(Scale)\n",
    "\n",
    "# 3. Bölüm: MODELLERİN KURULUMU VE BAŞARILARI"
   ]
  },
  {
   "cell_type": "markdown",
   "id": "3bff87c9",
   "metadata": {},
   "source": [
    "## 1. BÖLÜM\n",
    "## 1. KEŞİFÇİ VERİ ANALİZİ"
   ]
  },
  {
   "cell_type": "markdown",
   "id": "15b388b6",
   "metadata": {},
   "source": [
    "### Gerekli Kütüphaneler"
   ]
  },
  {
   "cell_type": "code",
   "execution_count": 49,
   "id": "7b0eb7a3-916b-416e-ba0d-d5755eb05fa7",
   "metadata": {},
   "outputs": [],
   "source": [
    "import numpy as np# çok boyutlu dizileri ve matrixleri hızlı şekilde kullanma\n",
    "import pandas as pd # dataframe işlemleri için\n",
    "\n",
    "import random\n",
    "\n",
    "#######veri görselleştirme#########\n",
    "import matplotlib.pyplot as plt\n",
    "import seaborn as sns\n",
    "\n",
    "#######başarı metrikleri için kullanılan kütüphane#########\n",
    "from sklearn.metrics import mean_squared_error,accuracy_score, precision_score, recall_score, f1_score,roc_auc_score\n",
    "\n",
    "\n",
    "from sklearn.cluster import KMeans\n",
    "from yellowbrick.cluster import KElbowVisualizer\n",
    "from scipy.cluster.hierarchy import linkage\n",
    "from scipy.cluster.hierarchy import dendrogram\n",
    "from sklearn.decomposition import PCA\n",
    "\n",
    "#Hiperparameter optimizasyonu kütüphanesi\n",
    "from sklearn.model_selection import GridSearchCV, cross_validate\n",
    "\n",
    "#veri setini train şekilde ayırmak için kullandığımız kütüphane\n",
    "from sklearn.model_selection import train_test_split\n",
    "\n",
    "#Label_Encoder_islemi\n",
    "from sklearn.preprocessing import LabelEncoder\n",
    "\n",
    "#verileri belirli bir ölçekte ayarlamak için kütüphane\n",
    "from sklearn.preprocessing import MinMaxScaler, LabelEncoder, StandardScaler, RobustScaler\n",
    "\n"
   ]
  },
  {
   "cell_type": "markdown",
   "id": "ddb81432",
   "metadata": {},
   "source": [
    "### 1.1. Veri Seti okutma"
   ]
  },
  {
   "cell_type": "code",
   "execution_count": 50,
   "id": "a5ec88fc",
   "metadata": {
    "scrolled": true
   },
   "outputs": [
    {
     "data": {
      "text/html": [
       "<div>\n",
       "<style scoped>\n",
       "    .dataframe tbody tr th:only-of-type {\n",
       "        vertical-align: middle;\n",
       "    }\n",
       "\n",
       "    .dataframe tbody tr th {\n",
       "        vertical-align: top;\n",
       "    }\n",
       "\n",
       "    .dataframe thead th {\n",
       "        text-align: right;\n",
       "    }\n",
       "</style>\n",
       "<table border=\"1\" class=\"dataframe\">\n",
       "  <thead>\n",
       "    <tr style=\"text-align: right;\">\n",
       "      <th></th>\n",
       "      <th>healthy</th>\n",
       "      <th>multiple_diseases</th>\n",
       "      <th>rust</th>\n",
       "      <th>scab</th>\n",
       "    </tr>\n",
       "    <tr>\n",
       "      <th>image_id</th>\n",
       "      <th></th>\n",
       "      <th></th>\n",
       "      <th></th>\n",
       "      <th></th>\n",
       "    </tr>\n",
       "  </thead>\n",
       "  <tbody>\n",
       "    <tr>\n",
       "      <th>Train_0</th>\n",
       "      <td>0</td>\n",
       "      <td>0</td>\n",
       "      <td>0</td>\n",
       "      <td>1</td>\n",
       "    </tr>\n",
       "    <tr>\n",
       "      <th>Train_1</th>\n",
       "      <td>0</td>\n",
       "      <td>1</td>\n",
       "      <td>0</td>\n",
       "      <td>0</td>\n",
       "    </tr>\n",
       "    <tr>\n",
       "      <th>Train_2</th>\n",
       "      <td>1</td>\n",
       "      <td>0</td>\n",
       "      <td>0</td>\n",
       "      <td>0</td>\n",
       "    </tr>\n",
       "    <tr>\n",
       "      <th>Train_3</th>\n",
       "      <td>0</td>\n",
       "      <td>0</td>\n",
       "      <td>1</td>\n",
       "      <td>0</td>\n",
       "    </tr>\n",
       "    <tr>\n",
       "      <th>Train_4</th>\n",
       "      <td>1</td>\n",
       "      <td>0</td>\n",
       "      <td>0</td>\n",
       "      <td>0</td>\n",
       "    </tr>\n",
       "  </tbody>\n",
       "</table>\n",
       "</div>"
      ],
      "text/plain": [
       "          healthy  multiple_diseases  rust  scab\n",
       "image_id                                        \n",
       "Train_0         0                  0     0     1\n",
       "Train_1         0                  1     0     0\n",
       "Train_2         1                  0     0     0\n",
       "Train_3         0                  0     1     0\n",
       "Train_4         1                  0     0     0"
      ]
     },
     "execution_count": 50,
     "metadata": {},
     "output_type": "execute_result"
    }
   ],
   "source": [
    "df = pd.read_csv(\"train.csv\")\n",
    "df.set_index(\"image_id\", inplace=True) # index kolonu\n",
    "df.head()"
   ]
  },
  {
   "cell_type": "markdown",
   "id": "da2d5725",
   "metadata": {},
   "source": [
    "### 1.2. Veri Seti Kolon İsimlerini Öğrenme"
   ]
  },
  {
   "cell_type": "code",
   "execution_count": 51,
   "id": "e2e274f3-6f59-4cf9-b9ff-6b8ff0af567b",
   "metadata": {},
   "outputs": [
    {
     "data": {
      "text/plain": [
       "['healthy', 'multiple_diseases', 'rust', 'scab']"
      ]
     },
     "execution_count": 51,
     "metadata": {},
     "output_type": "execute_result"
    }
   ],
   "source": [
    "df.columns.to_list()#kolon isimleri"
   ]
  },
  {
   "cell_type": "markdown",
   "id": "ec366eae",
   "metadata": {},
   "source": [
    "### 1.3. Veri Setindeki Kolon isimlerini Değiştirme"
   ]
  },
  {
   "cell_type": "code",
   "execution_count": 52,
   "id": "44f171d0-3b85-44dc-8933-e6ef72dfb3ea",
   "metadata": {
    "scrolled": true
   },
   "outputs": [
    {
     "data": {
      "text/html": [
       "<div>\n",
       "<style scoped>\n",
       "    .dataframe tbody tr th:only-of-type {\n",
       "        vertical-align: middle;\n",
       "    }\n",
       "\n",
       "    .dataframe tbody tr th {\n",
       "        vertical-align: top;\n",
       "    }\n",
       "\n",
       "    .dataframe thead th {\n",
       "        text-align: right;\n",
       "    }\n",
       "</style>\n",
       "<table border=\"1\" class=\"dataframe\">\n",
       "  <thead>\n",
       "    <tr style=\"text-align: right;\">\n",
       "      <th></th>\n",
       "      <th>saglikli</th>\n",
       "      <th>birden_fazla_hastalık</th>\n",
       "      <th>pas</th>\n",
       "      <th>kabuk</th>\n",
       "    </tr>\n",
       "    <tr>\n",
       "      <th>image_id</th>\n",
       "      <th></th>\n",
       "      <th></th>\n",
       "      <th></th>\n",
       "      <th></th>\n",
       "    </tr>\n",
       "  </thead>\n",
       "  <tbody>\n",
       "    <tr>\n",
       "      <th>Train_0</th>\n",
       "      <td>0</td>\n",
       "      <td>0</td>\n",
       "      <td>0</td>\n",
       "      <td>1</td>\n",
       "    </tr>\n",
       "    <tr>\n",
       "      <th>Train_1</th>\n",
       "      <td>0</td>\n",
       "      <td>1</td>\n",
       "      <td>0</td>\n",
       "      <td>0</td>\n",
       "    </tr>\n",
       "    <tr>\n",
       "      <th>Train_2</th>\n",
       "      <td>1</td>\n",
       "      <td>0</td>\n",
       "      <td>0</td>\n",
       "      <td>0</td>\n",
       "    </tr>\n",
       "    <tr>\n",
       "      <th>Train_3</th>\n",
       "      <td>0</td>\n",
       "      <td>0</td>\n",
       "      <td>1</td>\n",
       "      <td>0</td>\n",
       "    </tr>\n",
       "    <tr>\n",
       "      <th>Train_4</th>\n",
       "      <td>1</td>\n",
       "      <td>0</td>\n",
       "      <td>0</td>\n",
       "      <td>0</td>\n",
       "    </tr>\n",
       "  </tbody>\n",
       "</table>\n",
       "</div>"
      ],
      "text/plain": [
       "          saglikli  birden_fazla_hastalık  pas  kabuk\n",
       "image_id                                             \n",
       "Train_0          0                      0    0      1\n",
       "Train_1          0                      1    0      0\n",
       "Train_2          1                      0    0      0\n",
       "Train_3          0                      0    1      0\n",
       "Train_4          1                      0    0      0"
      ]
     },
     "execution_count": 52,
     "metadata": {},
     "output_type": "execute_result"
    }
   ],
   "source": [
    "\n",
    "yeni_isimler = {\n",
    "    'healthy': 'saglikli',\n",
    "    'multiple_diseases': 'birden_fazla_hastalık',\n",
    "    'rust': 'pas',\n",
    "    'scab': 'kabuk',\n",
    "}\n",
    "\n",
    "df.rename(columns=yeni_isimler, inplace=True)\n",
    "df.head()"
   ]
  },
  {
   "cell_type": "markdown",
   "id": "c98e78c5",
   "metadata": {},
   "source": [
    "### 1.4. Veri Setinin Tanımlayıcı istatistiklerinin Transpozu alınmış hali"
   ]
  },
  {
   "cell_type": "code",
   "execution_count": 53,
   "id": "c5fbd5d4-0403-4564-b7c7-8678656169b8",
   "metadata": {},
   "outputs": [
    {
     "data": {
      "text/html": [
       "<div>\n",
       "<style scoped>\n",
       "    .dataframe tbody tr th:only-of-type {\n",
       "        vertical-align: middle;\n",
       "    }\n",
       "\n",
       "    .dataframe tbody tr th {\n",
       "        vertical-align: top;\n",
       "    }\n",
       "\n",
       "    .dataframe thead th {\n",
       "        text-align: right;\n",
       "    }\n",
       "</style>\n",
       "<table border=\"1\" class=\"dataframe\">\n",
       "  <thead>\n",
       "    <tr style=\"text-align: right;\">\n",
       "      <th></th>\n",
       "      <th>count</th>\n",
       "      <th>mean</th>\n",
       "      <th>std</th>\n",
       "      <th>min</th>\n",
       "      <th>25%</th>\n",
       "      <th>50%</th>\n",
       "      <th>75%</th>\n",
       "      <th>max</th>\n",
       "    </tr>\n",
       "  </thead>\n",
       "  <tbody>\n",
       "    <tr>\n",
       "      <th>saglikli</th>\n",
       "      <td>1821.0</td>\n",
       "      <td>0.283361</td>\n",
       "      <td>0.450754</td>\n",
       "      <td>0.0</td>\n",
       "      <td>0.0</td>\n",
       "      <td>0.0</td>\n",
       "      <td>1.0</td>\n",
       "      <td>1.0</td>\n",
       "    </tr>\n",
       "    <tr>\n",
       "      <th>birden_fazla_hastalık</th>\n",
       "      <td>1821.0</td>\n",
       "      <td>0.049973</td>\n",
       "      <td>0.217948</td>\n",
       "      <td>0.0</td>\n",
       "      <td>0.0</td>\n",
       "      <td>0.0</td>\n",
       "      <td>0.0</td>\n",
       "      <td>1.0</td>\n",
       "    </tr>\n",
       "    <tr>\n",
       "      <th>pas</th>\n",
       "      <td>1821.0</td>\n",
       "      <td>0.341571</td>\n",
       "      <td>0.474367</td>\n",
       "      <td>0.0</td>\n",
       "      <td>0.0</td>\n",
       "      <td>0.0</td>\n",
       "      <td>1.0</td>\n",
       "      <td>1.0</td>\n",
       "    </tr>\n",
       "    <tr>\n",
       "      <th>kabuk</th>\n",
       "      <td>1821.0</td>\n",
       "      <td>0.325096</td>\n",
       "      <td>0.468539</td>\n",
       "      <td>0.0</td>\n",
       "      <td>0.0</td>\n",
       "      <td>0.0</td>\n",
       "      <td>1.0</td>\n",
       "      <td>1.0</td>\n",
       "    </tr>\n",
       "  </tbody>\n",
       "</table>\n",
       "</div>"
      ],
      "text/plain": [
       "                        count      mean       std  min  25%  50%  75%  max\n",
       "saglikli               1821.0  0.283361  0.450754  0.0  0.0  0.0  1.0  1.0\n",
       "birden_fazla_hastalık  1821.0  0.049973  0.217948  0.0  0.0  0.0  0.0  1.0\n",
       "pas                    1821.0  0.341571  0.474367  0.0  0.0  0.0  1.0  1.0\n",
       "kabuk                  1821.0  0.325096  0.468539  0.0  0.0  0.0  1.0  1.0"
      ]
     },
     "execution_count": 53,
     "metadata": {},
     "output_type": "execute_result"
    }
   ],
   "source": [
    "df.describe().T"
   ]
  },
  {
   "cell_type": "markdown",
   "id": "cadb05f7",
   "metadata": {},
   "source": [
    "### 1.5. Veri Setinin Tanımlayıcı istatistiklerinin tablo halinde verilmiş hali"
   ]
  },
  {
   "cell_type": "code",
   "execution_count": 54,
   "id": "432cefa9",
   "metadata": {},
   "outputs": [
    {
     "name": "stdout",
     "output_type": "stream",
     "text": [
      "╒═══════╤════════════╤═════════════════════════╤══════════╤══════════╕\n",
      "│       │  saglikli  │  birden_fazla_hastalık  │   pas    │  kabuk   │\n",
      "╞═══════╪════════════╪═════════════════════════╪══════════╪══════════╡\n",
      "│ count │    1821    │          1821           │   1821   │   1821   │\n",
      "├───────┼────────────┼─────────────────────────┼──────────┼──────────┤\n",
      "│ mean  │  0.283361  │        0.0499725        │ 0.341571 │ 0.325096 │\n",
      "├───────┼────────────┼─────────────────────────┼──────────┼──────────┤\n",
      "│  std  │  0.450754  │        0.217948         │ 0.474367 │ 0.468539 │\n",
      "├───────┼────────────┼─────────────────────────┼──────────┼──────────┤\n",
      "│  min  │     0      │            0            │    0     │    0     │\n",
      "├───────┼────────────┼─────────────────────────┼──────────┼──────────┤\n",
      "│  25%  │     0      │            0            │    0     │    0     │\n",
      "├───────┼────────────┼─────────────────────────┼──────────┼──────────┤\n",
      "│  50%  │     0      │            0            │    0     │    0     │\n",
      "├───────┼────────────┼─────────────────────────┼──────────┼──────────┤\n",
      "│  75%  │     1      │            0            │    1     │    1     │\n",
      "├───────┼────────────┼─────────────────────────┼──────────┼──────────┤\n",
      "│  max  │     1      │            1            │    1     │    1     │\n",
      "╘═══════╧════════════╧═════════════════════════╧══════════╧══════════╛\n"
     ]
    }
   ],
   "source": [
    "from tabulate import tabulate\n",
    "betimsel_istatistikler = df.describe()\n",
    "table = tabulate(betimsel_istatistikler, headers='keys', tablefmt='fancy_grid',numalign='center',stralign='center')\n",
    "#table=tabulate(betimsel_istatistikler, headers=, tablefmt, numalign, stralign, missingval)\n",
    "print(table)"
   ]
  },
  {
   "cell_type": "markdown",
   "id": "f12eb6ff",
   "metadata": {},
   "source": [
    "### 1.6. Veri Setinin Genel Resmi"
   ]
  },
  {
   "cell_type": "code",
   "execution_count": 55,
   "id": "3939d476-a525-480a-912e-ced3d8266494",
   "metadata": {},
   "outputs": [
    {
     "name": "stdout",
     "output_type": "stream",
     "text": [
      "##################### Shape #####################\n",
      "(1821, 4)\n",
      "##################### Types #####################\n",
      "saglikli                 int64\n",
      "birden_fazla_hastalık    int64\n",
      "pas                      int64\n",
      "kabuk                    int64\n",
      "dtype: object\n",
      "##################### Head #####################\n",
      "          saglikli  birden_fazla_hastalık  pas  kabuk\n",
      "image_id                                             \n",
      "Train_0          0                      0    0      1\n",
      "Train_1          0                      1    0      0\n",
      "Train_2          1                      0    0      0\n",
      "Train_3          0                      0    1      0\n",
      "Train_4          1                      0    0      0\n",
      "##################### Tail #####################\n",
      "            saglikli  birden_fazla_hastalık  pas  kabuk\n",
      "image_id                                               \n",
      "Train_1816         0                      0    0      1\n",
      "Train_1817         1                      0    0      0\n",
      "Train_1818         1                      0    0      0\n",
      "Train_1819         0                      0    1      0\n",
      "Train_1820         0                      0    0      1\n",
      "##################### NA #####################\n",
      "saglikli                 0\n",
      "birden_fazla_hastalık    0\n",
      "pas                      0\n",
      "kabuk                    0\n",
      "dtype: int64\n",
      "##################### Quantiles #####################\n",
      "                       0.00  0.05  0.50  0.95  0.99  1.00\n",
      "saglikli                0.0   0.0   0.0   1.0   1.0   1.0\n",
      "birden_fazla_hastalık   0.0   0.0   0.0   0.0   1.0   1.0\n",
      "pas                     0.0   0.0   0.0   1.0   1.0   1.0\n",
      "kabuk                   0.0   0.0   0.0   1.0   1.0   1.0\n",
      "<class 'pandas.core.frame.DataFrame'>\n",
      "Index: 1821 entries, Train_0 to Train_1820\n",
      "Data columns (total 4 columns):\n",
      " #   Column                 Non-Null Count  Dtype\n",
      "---  ------                 --------------  -----\n",
      " 0   saglikli               1821 non-null   int64\n",
      " 1   birden_fazla_hastalık  1821 non-null   int64\n",
      " 2   pas                    1821 non-null   int64\n",
      " 3   kabuk                  1821 non-null   int64\n",
      "dtypes: int64(4)\n",
      "memory usage: 71.1+ KB\n"
     ]
    }
   ],
   "source": [
    "\n",
    "\n",
    "def check_df(dataframe, head=5):\n",
    "    print(\"##################### Shape #####################\")\n",
    "    print(dataframe.shape)#satır ve sütun sayısı\n",
    "    print(\"##################### Types #####################\")\n",
    "    print(dataframe.dtypes) # değişkenlerin tipleri\n",
    "    print(\"##################### Head #####################\")\n",
    "    print(dataframe.head(head)) # ilk beş satır\n",
    "    print(\"##################### Tail #####################\")\n",
    "    print(dataframe.tail(head)) # son 5 satır.\n",
    "    print(\"##################### NA #####################\")\n",
    "    print(dataframe.isnull().sum()) # değişkenlerin eksik verilerin sayısı\n",
    "    print(\"##################### Quantiles #####################\")\n",
    "    print(dataframe.quantile([0, 0.05, 0.50, 0.95, 0.99, 1]).T)\n",
    "\n",
    "check_df(df)\n",
    "\n",
    "df.head()\n",
    "df.info()"
   ]
  },
  {
   "cell_type": "markdown",
   "id": "1229b3f7",
   "metadata": {},
   "source": [
    "### 1.7. Veri Setinde Numerik ve Kategorik Değişkenlerin  Yakalanması "
   ]
  },
  {
   "cell_type": "code",
   "execution_count": 56,
   "id": "e53b25fb-681e-4b98-9940-d50ebcf5ab2c",
   "metadata": {},
   "outputs": [
    {
     "name": "stdout",
     "output_type": "stream",
     "text": [
      "Observations: 1821\n",
      "Variables: 4\n",
      "cat_cols: 4\n",
      "num_cols: 0\n",
      "cat_but_car: 0\n",
      "num_but_cat: 4\n"
     ]
    }
   ],
   "source": [
    "##################################\n",
    "# NUMERİK VE KATEGORİK DEĞİŞKENLERİN YAKALANMASI\n",
    "##################################\n",
    "\n",
    "def grab_col_names(dataframe, cat_th=10, car_th=20):\n",
    "    \"\"\"\n",
    "\n",
    "    Veri setindeki kategorik, numerik ve kategorik fakat kardinal değişkenlerin isimlerini verir.\n",
    "    Not: Kategorik değişkenlerin içerisine numerik görünümlü kategorik değişkenler de dahildir.\n",
    "\n",
    "    Parameters\n",
    "    ------\n",
    "        dataframe: dataframe\n",
    "                Değişken isimleri alınmak istenilen dataframe\n",
    "        cat_th: int, optional\n",
    "                numerik fakat kategorik olan değişkenler için sınıf eşik değeri\n",
    "        car_th: int, optional\n",
    "                kategorik fakat kardinal değişkenler için sınıf eşik değeri\n",
    "\n",
    "    Returns\n",
    "    ------\n",
    "        cat_cols: list\n",
    "                Kategorik değişken listesi\n",
    "        num_cols: list\n",
    "                Numerik değişken listesi\n",
    "        cat_but_car: list\n",
    "                Kategorik görünümlü kardinal değişken listesi\n",
    "\n",
    "    Examples\n",
    "    ------\n",
    "        import seaborn as sns\n",
    "        df = sns.load_dataset(\"iris\")\n",
    "        print(grab_col_names(df))\n",
    "\n",
    "\n",
    "    Notes\n",
    "    ------\n",
    "        cat_cols + num_cols + cat_but_car = toplam değişken sayısı\n",
    "        num_but_cat cat_cols'un içerisinde.\n",
    "\n",
    "    \"\"\"\n",
    "    # cat_cols, cat_but_car\n",
    "    cat_cols = [col for col in dataframe.columns if dataframe[col].dtypes == \"O\"]\n",
    "    num_but_cat = [col for col in dataframe.columns if dataframe[col].nunique() < cat_th and dataframe[col].dtypes != \"O\"]\n",
    "    cat_but_car = [col for col in dataframe.columns if dataframe[col].nunique() > car_th and dataframe[col].dtypes == \"O\"]\n",
    "    cat_cols = cat_cols + num_but_cat\n",
    "    cat_cols = [col for col in cat_cols if col not in cat_but_car]\n",
    "\n",
    "    # num_cols\n",
    "    num_cols = [col for col in dataframe.columns if dataframe[col].dtypes != \"O\"]\n",
    "    num_cols = [col for col in num_cols if col not in num_but_cat]\n",
    "\n",
    "    print(f\"Observations: {dataframe.shape[0]}\")\n",
    "    print(f\"Variables: {dataframe.shape[1]}\")\n",
    "    print(f'cat_cols: {len(cat_cols)}')\n",
    "    print(f'num_cols: {len(num_cols)}')\n",
    "    print(f'cat_but_car: {len(cat_but_car)}')\n",
    "    print(f'num_but_cat: {len(num_but_cat)}')\n",
    "\n",
    "    return cat_cols, num_cols, cat_but_car\n",
    "\n",
    "\n",
    "cat_cols, num_cols, cat_but_car = grab_col_names(df)\n",
    "\n"
   ]
  },
  {
   "cell_type": "markdown",
   "id": "d5af99c5",
   "metadata": {},
   "source": [
    "### 1.8. kategorik değişkenlerin incelenmesi"
   ]
  },
  {
   "cell_type": "code",
   "execution_count": 57,
   "id": "cdfb1972-f06f-4c65-b3c2-19fda9918517",
   "metadata": {},
   "outputs": [
    {
     "data": {
      "text/plain": [
       "['saglikli', 'birden_fazla_hastalık', 'pas', 'kabuk']"
      ]
     },
     "execution_count": 57,
     "metadata": {},
     "output_type": "execute_result"
    }
   ],
   "source": [
    "cat_cols"
   ]
  },
  {
   "cell_type": "markdown",
   "id": "f0301b56",
   "metadata": {},
   "source": [
    "#### 1.8.1. kategorik değişkenlerin dağılımı"
   ]
  },
  {
   "cell_type": "code",
   "execution_count": 58,
   "id": "234feb96-8c2d-4071-96cf-8b6669f95526",
   "metadata": {},
   "outputs": [],
   "source": [
    "#kategorik değişkenleri dağılımı\n",
    "def cat_summary(dataframe, col_name, plot=True):\n",
    "    print(pd.DataFrame({col_name: dataframe[col_name].value_counts(),\n",
    "                        \"Ratio\": 100 * dataframe[col_name].value_counts() / len(dataframe)}))\n",
    "    print(\"##########################################\")\n",
    "    \n",
    "    if plot:\n",
    "        sns.countplot(x=dataframe[col_name], data=dataframe)\n",
    "        plt.show(block=True)"
   ]
  },
  {
   "cell_type": "code",
   "execution_count": 59,
   "id": "a8bebe3b-5a30-4299-8675-6c298397ce3c",
   "metadata": {},
   "outputs": [
    {
     "name": "stdout",
     "output_type": "stream",
     "text": [
      "   saglikli      Ratio\n",
      "0      1305  71.663921\n",
      "1       516  28.336079\n",
      "##########################################\n"
     ]
    },
    {
     "data": {
      "image/png": "[encoded data removed]",
      "text/plain": [
       "<Figure size 1200x1200 with 1 Axes>"
      ]
     },
     "metadata": {},
     "output_type": "display_data"
    },
    {
     "name": "stdout",
     "output_type": "stream",
     "text": [
      "   birden_fazla_hastalık      Ratio\n",
      "0                   1730  95.002746\n",
      "1                     91   4.997254\n",
      "##########################################\n"
     ]
    },
    {
     "data": {
      "image/png": "[encoded data removed]",
      "text/plain": [
       "<Figure size 1200x1200 with 1 Axes>"
      ]
     },
     "metadata": {},
     "output_type": "display_data"
    },
    {
     "name": "stdout",
     "output_type": "stream",
     "text": [
      "    pas      Ratio\n",
      "0  1199  65.842943\n",
      "1   622  34.157057\n",
      "##########################################\n"
     ]
    },
    {
     "data": {
      "image/png": "[encoded data removed]",
      "text/plain": [
       "<Figure size 1200x1200 with 1 Axes>"
      ]
     },
     "metadata": {},
     "output_type": "display_data"
    },
    {
     "name": "stdout",
     "output_type": "stream",
     "text": [
      "   kabuk     Ratio\n",
      "0   1229  67.49039\n",
      "1    592  32.50961\n",
      "##########################################\n"
     ]
    },
    {
     "data": {
      "image/png": "[encoded data removed]",
      "text/plain": [
       "<Figure size 1200x1200 with 1 Axes>"
      ]
     },
     "metadata": {},
     "output_type": "display_data"
    }
   ],
   "source": [
    "for col in cat_cols:\n",
    "    cat_summary(df, col)"
   ]
  },
  {
   "cell_type": "markdown",
   "id": "6c85bb3f",
   "metadata": {},
   "source": [
    "### 1.9. Numeric Değişkenlerin incelenmesi"
   ]
  },
  {
   "cell_type": "code",
   "execution_count": 60,
   "id": "dffcac61",
   "metadata": {},
   "outputs": [
    {
     "data": {
      "text/plain": [
       "[]"
      ]
     },
     "execution_count": 60,
     "metadata": {},
     "output_type": "execute_result"
    }
   ],
   "source": [
    "num_cols"
   ]
  },
  {
   "cell_type": "markdown",
   "id": "c77bfb84",
   "metadata": {},
   "source": [
    "#### 1.9.1.Numeric değişkenlerin dağılımı"
   ]
  },
  {
   "cell_type": "code",
   "execution_count": 61,
   "id": "8b3cb173-2210-41ed-9230-a3834ca8c61f",
   "metadata": {},
   "outputs": [],
   "source": [
    "#numeric değişkenlerin dağılımı\n",
    "def num_summary(dataframe, numerical_col, plot=True):\n",
    "    quantiles = [0.05, 0.10, 0.20, 0.30, 0.40, 0.50, 0.60, 0.70, 0.80, 0.90, 0.95, 0.99]\n",
    "    print(dataframe[numerical_col].describe(quantiles).T)\n",
    "\n",
    "    if plot:\n",
    "        dataframe[numerical_col].hist()\n",
    "        plt.xlabel(numerical_col)\n",
    "        plt.title(numerical_col)\n",
    "        plt.show(block=True)"
   ]
  },
  {
   "cell_type": "code",
   "execution_count": 62,
   "id": "44b28f15-508f-4bf1-85a0-50463649ab72",
   "metadata": {},
   "outputs": [],
   "source": [
    "for col in num_cols:\n",
    "    num_summary(df, col, plot=True)"
   ]
  },
  {
   "cell_type": "markdown",
   "id": "50022d44",
   "metadata": {},
   "source": [
    "Veri Setimizde Numerik Değişken bulunmamaktadır."
   ]
  },
  {
   "cell_type": "markdown",
   "id": "7433e25a",
   "metadata": {},
   "source": [
    "### 1.10 Hedef Değişken Analizi"
   ]
  },
  {
   "cell_type": "code",
   "execution_count": 63,
   "id": "3a82c666",
   "metadata": {},
   "outputs": [
    {
     "data": {
      "text/plain": [
       "0    1305\n",
       "1     516\n",
       "Name: saglikli, dtype: int64"
      ]
     },
     "execution_count": 63,
     "metadata": {},
     "output_type": "execute_result"
    }
   ],
   "source": [
    "df[\"saglikli\"].value_counts()"
   ]
  },
  {
   "cell_type": "markdown",
   "id": "d21855cf",
   "metadata": {},
   "source": [
    "\n",
    "#### 1.10.1. Hedef Değişkenin Kategorik Değişkenler ile Analizi\n"
   ]
  },
  {
   "cell_type": "code",
   "execution_count": 64,
   "id": "eb07571f",
   "metadata": {},
   "outputs": [],
   "source": [
    "def target_summary_with_cat(dataframe, target, categorical_col):\n",
    "    print(pd.DataFrame({\"TARGET_MEAN\": dataframe.groupby(categorical_col)[target].mean()}), end=\"\\n\\n\\n\")\n"
   ]
  },
  {
   "cell_type": "code",
   "execution_count": 65,
   "id": "f9f31788",
   "metadata": {},
   "outputs": [
    {
     "name": "stdout",
     "output_type": "stream",
     "text": [
      "          TARGET_MEAN\n",
      "saglikli             \n",
      "0                 0.0\n",
      "1                 1.0\n",
      "\n",
      "\n",
      "                       TARGET_MEAN\n",
      "birden_fazla_hastalık             \n",
      "0                         0.298266\n",
      "1                         0.000000\n",
      "\n",
      "\n",
      "     TARGET_MEAN\n",
      "pas             \n",
      "0       0.430359\n",
      "1       0.000000\n",
      "\n",
      "\n",
      "       TARGET_MEAN\n",
      "kabuk             \n",
      "0         0.419854\n",
      "1         0.000000\n",
      "\n",
      "\n"
     ]
    }
   ],
   "source": [
    "for col in cat_cols:\n",
    "    target_summary_with_cat(df, \"saglikli\", col)"
   ]
  },
  {
   "cell_type": "markdown",
   "id": "a27a7737",
   "metadata": {},
   "source": [
    "\n",
    "#### 1.10.2. Hedef Değişkenin Numerik Değişkenler ile Analizi\n"
   ]
  },
  {
   "cell_type": "code",
   "execution_count": 66,
   "id": "6b033a54",
   "metadata": {},
   "outputs": [],
   "source": [
    "def target_summary_with_num(dataframe, target, numerical_col):\n",
    "    print(dataframe.groupby(target).agg({numerical_col: \"mean\"}), end=\"\\n\\n\\n\")"
   ]
  },
  {
   "cell_type": "code",
   "execution_count": 67,
   "id": "5a46e605",
   "metadata": {},
   "outputs": [],
   "source": [
    "for col in num_cols:\n",
    "    target_summary_with_num(df, \"saglikli\", col)\n",
    "\n"
   ]
  },
  {
   "cell_type": "markdown",
   "id": "324c717b",
   "metadata": {},
   "source": [
    "### 1.11.Korelasyon analizi"
   ]
  },
  {
   "cell_type": "code",
   "execution_count": 68,
   "id": "0aa57a92-901f-4276-915f-fe7c59bcee19",
   "metadata": {},
   "outputs": [
    {
     "data": {
      "image/png": "[encoded data removed]",
      "text/plain": [
       "<Figure size 1200x1200 with 2 Axes>"
      ]
     },
     "metadata": {},
     "output_type": "display_data"
    }
   ],
   "source": [
    "# Korelasyon matrisini hesapla\n",
    "corr = df.corr()\n",
    "\n",
    "# Isı haritasını çiz\n",
    "sns.set(rc={'figure.figsize': (12, 12)})\n",
    "sns.heatmap(corr, cmap=\"RdBu\", annot=True, fmt=\".2f\")\n",
    "plt.show()\n"
   ]
  },
  {
   "cell_type": "markdown",
   "id": "d77c98a0",
   "metadata": {},
   "source": [
    "####  1.11.1. Korelasyon Analizi Matris Tablosu"
   ]
  },
  {
   "cell_type": "code",
   "execution_count": 69,
   "id": "a47f955b-19a7-495d-aee4-457e01c37d41",
   "metadata": {},
   "outputs": [
    {
     "data": {
      "text/html": [
       "<div>\n",
       "<style scoped>\n",
       "    .dataframe tbody tr th:only-of-type {\n",
       "        vertical-align: middle;\n",
       "    }\n",
       "\n",
       "    .dataframe tbody tr th {\n",
       "        vertical-align: top;\n",
       "    }\n",
       "\n",
       "    .dataframe thead th {\n",
       "        text-align: right;\n",
       "    }\n",
       "</style>\n",
       "<table border=\"1\" class=\"dataframe\">\n",
       "  <thead>\n",
       "    <tr style=\"text-align: right;\">\n",
       "      <th></th>\n",
       "      <th>saglikli</th>\n",
       "      <th>birden_fazla_hastalık</th>\n",
       "      <th>pas</th>\n",
       "      <th>kabuk</th>\n",
       "    </tr>\n",
       "  </thead>\n",
       "  <tbody>\n",
       "    <tr>\n",
       "      <th>saglikli</th>\n",
       "      <td>1.000000</td>\n",
       "      <td>0.144217</td>\n",
       "      <td>0.452903</td>\n",
       "      <td>0.436420</td>\n",
       "    </tr>\n",
       "    <tr>\n",
       "      <th>birden_fazla_hastalık</th>\n",
       "      <td>0.144217</td>\n",
       "      <td>1.000000</td>\n",
       "      <td>0.165190</td>\n",
       "      <td>0.159178</td>\n",
       "    </tr>\n",
       "    <tr>\n",
       "      <th>pas</th>\n",
       "      <td>0.452903</td>\n",
       "      <td>0.165190</td>\n",
       "      <td>1.000000</td>\n",
       "      <td>0.499885</td>\n",
       "    </tr>\n",
       "    <tr>\n",
       "      <th>kabuk</th>\n",
       "      <td>0.436420</td>\n",
       "      <td>0.159178</td>\n",
       "      <td>0.499885</td>\n",
       "      <td>1.000000</td>\n",
       "    </tr>\n",
       "  </tbody>\n",
       "</table>\n",
       "</div>"
      ],
      "text/plain": [
       "                       saglikli  birden_fazla_hastalık       pas     kabuk\n",
       "saglikli               1.000000               0.144217  0.452903  0.436420\n",
       "birden_fazla_hastalık  0.144217               1.000000  0.165190  0.159178\n",
       "pas                    0.452903               0.165190  1.000000  0.499885\n",
       "kabuk                  0.436420               0.159178  0.499885  1.000000"
      ]
     },
     "execution_count": 69,
     "metadata": {},
     "output_type": "execute_result"
    }
   ],
   "source": [
    "#korelasyon matrisi tablosu\n",
    "cor_matrix = df.corr().abs()\n",
    "cor_matrix"
   ]
  },
  {
   "cell_type": "markdown",
   "id": "611f4cf5",
   "metadata": {},
   "source": [
    "#### 1.11.2. Korelasyon analizi matris tab 2"
   ]
  },
  {
   "cell_type": "code",
   "execution_count": 70,
   "id": "4e7d099a-59e9-4644-bda4-8c95ab174f3e",
   "metadata": {},
   "outputs": [
    {
     "data": {
      "text/html": [
       "<div>\n",
       "<style scoped>\n",
       "    .dataframe tbody tr th:only-of-type {\n",
       "        vertical-align: middle;\n",
       "    }\n",
       "\n",
       "    .dataframe tbody tr th {\n",
       "        vertical-align: top;\n",
       "    }\n",
       "\n",
       "    .dataframe thead th {\n",
       "        text-align: right;\n",
       "    }\n",
       "</style>\n",
       "<table border=\"1\" class=\"dataframe\">\n",
       "  <thead>\n",
       "    <tr style=\"text-align: right;\">\n",
       "      <th></th>\n",
       "      <th>saglikli</th>\n",
       "      <th>birden_fazla_hastalık</th>\n",
       "      <th>pas</th>\n",
       "      <th>kabuk</th>\n",
       "    </tr>\n",
       "  </thead>\n",
       "  <tbody>\n",
       "    <tr>\n",
       "      <th>saglikli</th>\n",
       "      <td>NaN</td>\n",
       "      <td>0.144217</td>\n",
       "      <td>0.452903</td>\n",
       "      <td>0.436420</td>\n",
       "    </tr>\n",
       "    <tr>\n",
       "      <th>birden_fazla_hastalık</th>\n",
       "      <td>NaN</td>\n",
       "      <td>NaN</td>\n",
       "      <td>0.165190</td>\n",
       "      <td>0.159178</td>\n",
       "    </tr>\n",
       "    <tr>\n",
       "      <th>pas</th>\n",
       "      <td>NaN</td>\n",
       "      <td>NaN</td>\n",
       "      <td>NaN</td>\n",
       "      <td>0.499885</td>\n",
       "    </tr>\n",
       "    <tr>\n",
       "      <th>kabuk</th>\n",
       "      <td>NaN</td>\n",
       "      <td>NaN</td>\n",
       "      <td>NaN</td>\n",
       "      <td>NaN</td>\n",
       "    </tr>\n",
       "  </tbody>\n",
       "</table>\n",
       "</div>"
      ],
      "text/plain": [
       "                       saglikli  birden_fazla_hastalık       pas     kabuk\n",
       "saglikli                    NaN               0.144217  0.452903  0.436420\n",
       "birden_fazla_hastalık       NaN                    NaN  0.165190  0.159178\n",
       "pas                         NaN                    NaN       NaN  0.499885\n",
       "kabuk                       NaN                    NaN       NaN       NaN"
      ]
     },
     "execution_count": 70,
     "metadata": {},
     "output_type": "execute_result"
    }
   ],
   "source": [
    "upper_triangle_matrix = cor_matrix.where(np.triu(np.ones(cor_matrix.shape), k=1).astype(bool))\n",
    "upper_triangle_matrix"
   ]
  },
  {
   "cell_type": "markdown",
   "id": "8b231d3a",
   "metadata": {},
   "source": [
    "## 2. Bölüm"
   ]
  },
  {
   "cell_type": "markdown",
   "id": "7dcecfbc",
   "metadata": {},
   "source": [
    "## 2. Feature Enginerring"
   ]
  },
  {
   "cell_type": "markdown",
   "id": "06813d73",
   "metadata": {},
   "source": [
    "### 2.1. Aykırı Değer Analizi (Outliers)"
   ]
  },
  {
   "cell_type": "markdown",
   "id": "2a7552c3",
   "metadata": {},
   "source": [
    "#### 2.1.1. Boxplot yöntemi(IQR Fonksiyonu tanımlama)\n"
   ]
  },
  {
   "cell_type": "code",
   "execution_count": 71,
   "id": "6dbd8da5-e3cd-4348-be9e-57a3c82cccf5",
   "metadata": {},
   "outputs": [],
   "source": [
    "def outlier_thresholds(dataframe, col_name, q1=0.25, q3=0.75):\n",
    "    quartile1 = dataframe[col_name].quantile(q1)\n",
    "    quartile3 = dataframe[col_name].quantile(q3)\n",
    "    interquantile_range = quartile3 - quartile1\n",
    "    up_limit = quartile3 + 1.5 * interquantile_range\n",
    "    low_limit = quartile1 - 1.5 * interquantile_range\n",
    "    return low_limit, up_limit"
   ]
  },
  {
   "cell_type": "markdown",
   "id": "cc352e0b",
   "metadata": {},
   "source": [
    "#### 2.1.2. IQR Alt ve Üst Limitlerini Belirleme"
   ]
  },
  {
   "cell_type": "code",
   "execution_count": 72,
   "id": "674cdd92-6124-4668-9d8e-7cf5d6c64b21",
   "metadata": {},
   "outputs": [],
   "source": [
    "def check_outlier(dataframe, col_name):\n",
    "    low_limit, up_limit = outlier_thresholds(dataframe, col_name)\n",
    "    if dataframe[(dataframe[col_name] > up_limit) | (dataframe[col_name] < low_limit)].any(axis=None):\n",
    "        return True\n",
    "    else:\n",
    "        return False\n"
   ]
  },
  {
   "cell_type": "markdown",
   "id": "3ec6a9ab",
   "metadata": {},
   "source": [
    "#### 2.1.3. Aykırı Değeri Olan Değişkenler"
   ]
  },
  {
   "cell_type": "code",
   "execution_count": 73,
   "id": "0dbf0e78-74d9-43d9-a1e9-4c3b4e26d037",
   "metadata": {},
   "outputs": [],
   "source": [
    "for col in num_cols:\n",
    "    print(col, check_outlier(df, col))"
   ]
  },
  {
   "cell_type": "markdown",
   "id": "918502d0",
   "metadata": {},
   "source": [
    "Aykırı değer yok çünkü sürekli değişken yok."
   ]
  },
  {
   "cell_type": "markdown",
   "id": "d3c898a6",
   "metadata": {},
   "source": [
    "### 2.2. Eksik Değerler(Missing Value)"
   ]
  },
  {
   "cell_type": "code",
   "execution_count": 74,
   "id": "14fc0b94",
   "metadata": {},
   "outputs": [
    {
     "data": {
      "text/plain": [
       "0"
      ]
     },
     "execution_count": 74,
     "metadata": {},
     "output_type": "execute_result"
    }
   ],
   "source": [
    "df.isnull().sum().sum()# eksik veri sayısı"
   ]
  },
  {
   "cell_type": "markdown",
   "id": "33154be6",
   "metadata": {},
   "source": [
    "eksik değer bulunmamaktadır."
   ]
  },
  {
   "cell_type": "markdown",
   "id": "e0dc61db",
   "metadata": {},
   "source": [
    "### 2.3. Label Encoding"
   ]
  },
  {
   "cell_type": "code",
   "execution_count": 75,
   "id": "7ab609bb",
   "metadata": {},
   "outputs": [
    {
     "data": {
      "text/html": [
       "<div>\n",
       "<style scoped>\n",
       "    .dataframe tbody tr th:only-of-type {\n",
       "        vertical-align: middle;\n",
       "    }\n",
       "\n",
       "    .dataframe tbody tr th {\n",
       "        vertical-align: top;\n",
       "    }\n",
       "\n",
       "    .dataframe thead th {\n",
       "        text-align: right;\n",
       "    }\n",
       "</style>\n",
       "<table border=\"1\" class=\"dataframe\">\n",
       "  <thead>\n",
       "    <tr style=\"text-align: right;\">\n",
       "      <th></th>\n",
       "      <th>saglikli</th>\n",
       "      <th>birden_fazla_hastalık</th>\n",
       "      <th>pas</th>\n",
       "      <th>kabuk</th>\n",
       "    </tr>\n",
       "    <tr>\n",
       "      <th>image_id</th>\n",
       "      <th></th>\n",
       "      <th></th>\n",
       "      <th></th>\n",
       "      <th></th>\n",
       "    </tr>\n",
       "  </thead>\n",
       "  <tbody>\n",
       "    <tr>\n",
       "      <th>Train_0</th>\n",
       "      <td>0</td>\n",
       "      <td>0</td>\n",
       "      <td>0</td>\n",
       "      <td>1</td>\n",
       "    </tr>\n",
       "    <tr>\n",
       "      <th>Train_1</th>\n",
       "      <td>0</td>\n",
       "      <td>1</td>\n",
       "      <td>0</td>\n",
       "      <td>0</td>\n",
       "    </tr>\n",
       "    <tr>\n",
       "      <th>Train_2</th>\n",
       "      <td>1</td>\n",
       "      <td>0</td>\n",
       "      <td>0</td>\n",
       "      <td>0</td>\n",
       "    </tr>\n",
       "    <tr>\n",
       "      <th>Train_3</th>\n",
       "      <td>0</td>\n",
       "      <td>0</td>\n",
       "      <td>1</td>\n",
       "      <td>0</td>\n",
       "    </tr>\n",
       "    <tr>\n",
       "      <th>Train_4</th>\n",
       "      <td>1</td>\n",
       "      <td>0</td>\n",
       "      <td>0</td>\n",
       "      <td>0</td>\n",
       "    </tr>\n",
       "  </tbody>\n",
       "</table>\n",
       "</div>"
      ],
      "text/plain": [
       "          saglikli  birden_fazla_hastalık  pas  kabuk\n",
       "image_id                                             \n",
       "Train_0          0                      0    0      1\n",
       "Train_1          0                      1    0      0\n",
       "Train_2          1                      0    0      0\n",
       "Train_3          0                      0    1      0\n",
       "Train_4          1                      0    0      0"
      ]
     },
     "execution_count": 75,
     "metadata": {},
     "output_type": "execute_result"
    }
   ],
   "source": [
    "def one_hot_encoder(dataframe, categorical_cols, drop_first=True):\n",
    "    dataframe = pd.get_dummies(dataframe, columns=categorical_cols, drop_first=drop_first)\n",
    "    return dataframe\n",
    "\n",
    "\n",
    "# cat_cols, num_cols, cat_but_car = grab_col_names(df)\n",
    "\n",
    "ohe_cols = [col for col in df.columns if 10 >= df[col].nunique() > 2]\n",
    "\n",
    "\n",
    "one_hot_encoder(df, ohe_cols).head()\n",
    "\n",
    "df.head()"
   ]
  },
  {
   "cell_type": "markdown",
   "id": "709c7a7e",
   "metadata": {},
   "source": [
    "### 2.3. Label Encoding"
   ]
  },
  {
   "cell_type": "code",
   "execution_count": 76,
   "id": "65169e87",
   "metadata": {},
   "outputs": [
    {
     "data": {
      "text/html": [
       "<div>\n",
       "<style scoped>\n",
       "    .dataframe tbody tr th:only-of-type {\n",
       "        vertical-align: middle;\n",
       "    }\n",
       "\n",
       "    .dataframe tbody tr th {\n",
       "        vertical-align: top;\n",
       "    }\n",
       "\n",
       "    .dataframe thead th {\n",
       "        text-align: right;\n",
       "    }\n",
       "</style>\n",
       "<table border=\"1\" class=\"dataframe\">\n",
       "  <thead>\n",
       "    <tr style=\"text-align: right;\">\n",
       "      <th></th>\n",
       "      <th>saglikli</th>\n",
       "      <th>birden_fazla_hastalık</th>\n",
       "      <th>pas</th>\n",
       "      <th>kabuk</th>\n",
       "    </tr>\n",
       "    <tr>\n",
       "      <th>image_id</th>\n",
       "      <th></th>\n",
       "      <th></th>\n",
       "      <th></th>\n",
       "      <th></th>\n",
       "    </tr>\n",
       "  </thead>\n",
       "  <tbody>\n",
       "    <tr>\n",
       "      <th>Train_0</th>\n",
       "      <td>0</td>\n",
       "      <td>0</td>\n",
       "      <td>0</td>\n",
       "      <td>1</td>\n",
       "    </tr>\n",
       "    <tr>\n",
       "      <th>Train_1</th>\n",
       "      <td>0</td>\n",
       "      <td>1</td>\n",
       "      <td>0</td>\n",
       "      <td>0</td>\n",
       "    </tr>\n",
       "    <tr>\n",
       "      <th>Train_2</th>\n",
       "      <td>1</td>\n",
       "      <td>0</td>\n",
       "      <td>0</td>\n",
       "      <td>0</td>\n",
       "    </tr>\n",
       "    <tr>\n",
       "      <th>Train_3</th>\n",
       "      <td>0</td>\n",
       "      <td>0</td>\n",
       "      <td>1</td>\n",
       "      <td>0</td>\n",
       "    </tr>\n",
       "    <tr>\n",
       "      <th>Train_4</th>\n",
       "      <td>1</td>\n",
       "      <td>0</td>\n",
       "      <td>0</td>\n",
       "      <td>0</td>\n",
       "    </tr>\n",
       "  </tbody>\n",
       "</table>\n",
       "</div>"
      ],
      "text/plain": [
       "          saglikli  birden_fazla_hastalık  pas  kabuk\n",
       "image_id                                             \n",
       "Train_0          0                      0    0      1\n",
       "Train_1          0                      1    0      0\n",
       "Train_2          1                      0    0      0\n",
       "Train_3          0                      0    1      0\n",
       "Train_4          1                      0    0      0"
      ]
     },
     "execution_count": 76,
     "metadata": {},
     "output_type": "execute_result"
    }
   ],
   "source": [
    "def one_hot_encoder(dataframe, categorical_cols, drop_first=True):\n",
    "    dataframe = pd.get_dummies(dataframe, columns=categorical_cols, drop_first=drop_first)\n",
    "    return dataframe\n",
    "\n",
    "# cat_cols, num_cols, cat_but_car = grab_col_names(df)\n",
    "\n",
    "ohe_cols = [col for col in df.columns if 10 >= df[col].nunique() > 2]\n",
    "\n",
    "\n",
    "one_hot_encoder(df, ohe_cols).head()"
   ]
  },
  {
   "cell_type": "markdown",
   "id": "c4017683",
   "metadata": {},
   "source": [
    "### 2.4. Özellik Ölçeklendirme(Scale)"
   ]
  },
  {
   "cell_type": "code",
   "execution_count": 77,
   "id": "709c0080-1943-460c-a492-df21e56824cd",
   "metadata": {},
   "outputs": [],
   "source": [
    "y = df[\"saglikli\"]\n",
    "X = df.drop([\"saglikli\"], axis=1)"
   ]
  },
  {
   "cell_type": "code",
   "execution_count": 78,
   "id": "ecb02028-5048-4b6d-bcd7-738a9c17d827",
   "metadata": {},
   "outputs": [
    {
     "data": {
      "text/plain": [
       "image_id\n",
       "Train_0    0\n",
       "Train_1    0\n",
       "Train_2    1\n",
       "Train_3    0\n",
       "Train_4    1\n",
       "Name: saglikli, dtype: int64"
      ]
     },
     "execution_count": 78,
     "metadata": {},
     "output_type": "execute_result"
    }
   ],
   "source": [
    "y.head()"
   ]
  },
  {
   "cell_type": "code",
   "execution_count": 79,
   "id": "01992e88-a3ae-429c-95b8-e7649d299510",
   "metadata": {},
   "outputs": [],
   "source": [
    "scaler= RobustScaler()\n",
    "df[X.columns.to_list()]=scaler.fit_transform(df[X.columns.to_list()])"
   ]
  },
  {
   "cell_type": "code",
   "execution_count": 80,
   "id": "def9737f-8e7b-4aed-9eab-eef1f7455b1a",
   "metadata": {},
   "outputs": [
    {
     "data": {
      "text/html": [
       "<div>\n",
       "<style scoped>\n",
       "    .dataframe tbody tr th:only-of-type {\n",
       "        vertical-align: middle;\n",
       "    }\n",
       "\n",
       "    .dataframe tbody tr th {\n",
       "        vertical-align: top;\n",
       "    }\n",
       "\n",
       "    .dataframe thead th {\n",
       "        text-align: right;\n",
       "    }\n",
       "</style>\n",
       "<table border=\"1\" class=\"dataframe\">\n",
       "  <thead>\n",
       "    <tr style=\"text-align: right;\">\n",
       "      <th></th>\n",
       "      <th>saglikli</th>\n",
       "      <th>birden_fazla_hastalık</th>\n",
       "      <th>pas</th>\n",
       "      <th>kabuk</th>\n",
       "    </tr>\n",
       "    <tr>\n",
       "      <th>image_id</th>\n",
       "      <th></th>\n",
       "      <th></th>\n",
       "      <th></th>\n",
       "      <th></th>\n",
       "    </tr>\n",
       "  </thead>\n",
       "  <tbody>\n",
       "    <tr>\n",
       "      <th>Train_0</th>\n",
       "      <td>0</td>\n",
       "      <td>0.0</td>\n",
       "      <td>0.0</td>\n",
       "      <td>1.0</td>\n",
       "    </tr>\n",
       "    <tr>\n",
       "      <th>Train_1</th>\n",
       "      <td>0</td>\n",
       "      <td>1.0</td>\n",
       "      <td>0.0</td>\n",
       "      <td>0.0</td>\n",
       "    </tr>\n",
       "    <tr>\n",
       "      <th>Train_2</th>\n",
       "      <td>1</td>\n",
       "      <td>0.0</td>\n",
       "      <td>0.0</td>\n",
       "      <td>0.0</td>\n",
       "    </tr>\n",
       "    <tr>\n",
       "      <th>Train_3</th>\n",
       "      <td>0</td>\n",
       "      <td>0.0</td>\n",
       "      <td>1.0</td>\n",
       "      <td>0.0</td>\n",
       "    </tr>\n",
       "    <tr>\n",
       "      <th>Train_4</th>\n",
       "      <td>1</td>\n",
       "      <td>0.0</td>\n",
       "      <td>0.0</td>\n",
       "      <td>0.0</td>\n",
       "    </tr>\n",
       "  </tbody>\n",
       "</table>\n",
       "</div>"
      ],
      "text/plain": [
       "          saglikli  birden_fazla_hastalık  pas  kabuk\n",
       "image_id                                             \n",
       "Train_0          0                    0.0  0.0    1.0\n",
       "Train_1          0                    1.0  0.0    0.0\n",
       "Train_2          1                    0.0  0.0    0.0\n",
       "Train_3          0                    0.0  1.0    0.0\n",
       "Train_4          1                    0.0  0.0    0.0"
      ]
     },
     "execution_count": 80,
     "metadata": {},
     "output_type": "execute_result"
    }
   ],
   "source": [
    "df.head()"
   ]
  },
  {
   "cell_type": "markdown",
   "id": "71d731cb",
   "metadata": {},
   "source": [
    "## 3. BÖLÜM "
   ]
  },
  {
   "cell_type": "markdown",
   "id": "c67f09c3-69ae-44e7-9875-b34d7bf1c607",
   "metadata": {},
   "source": [
    "## 3. MODELLERİN KURULUMU EĞİTİMİ"
   ]
  },
  {
   "cell_type": "code",
   "execution_count": 81,
   "id": "00ac4ee3",
   "metadata": {},
   "outputs": [],
   "source": [
    "import joblib\n",
    "import pandas as pd\n",
    "from lightgbm import LGBMClassifier\n",
    "from sklearn.ensemble import RandomForestClassifier, GradientBoostingClassifier, VotingClassifier, AdaBoostClassifier\n",
    "from sklearn.linear_model import LogisticRegression\n",
    "from sklearn.model_selection import cross_validate, GridSearchCV\n",
    "from sklearn.neighbors import KNeighborsClassifier\n",
    "from sklearn.preprocessing import StandardScaler\n",
    "from sklearn.svm import SVC\n",
    "from sklearn.tree import DecisionTreeClassifier\n",
    "from xgboost import XGBClassifier"
   ]
  },
  {
   "cell_type": "markdown",
   "id": "2b068ec8",
   "metadata": {},
   "source": [
    "### 3.1. Eğitim - Validation - Test olarak ayrılması"
   ]
  },
  {
   "cell_type": "code",
   "execution_count": 82,
   "id": "65783685",
   "metadata": {},
   "outputs": [],
   "source": [
    "from sklearn.model_selection import train_test_split\n",
    "\n",
    "# Veri setini train ve test setlerine ayırma\n",
    "X_train, X_temp, y_train, y_temp = train_test_split(X, y, test_size=0.2, random_state=17)\n",
    "\n",
    "# Kalan veri setini validation ve test setlerine ayırma\n",
    "X_validation, X_test, y_validation, y_test = train_test_split(X_temp, y_temp, test_size=0.5, random_state=17)"
   ]
  },
  {
   "cell_type": "markdown",
   "id": "6f30618d",
   "metadata": {},
   "source": [
    "### 3.2. Base Modellerin kurulumu"
   ]
  },
  {
   "cell_type": "code",
   "execution_count": 83,
   "id": "2d9c2ee7",
   "metadata": {},
   "outputs": [
    {
     "name": "stdout",
     "output_type": "stream",
     "text": [
      "Base Models....\n",
      "accuracy: 1.0 (LR) \n",
      "accuracy: 1.0 (KNN) \n",
      "accuracy: 1.0 (SVC) \n",
      "accuracy: 1.0 (CART) \n"
     ]
    },
    {
     "name": "stderr",
     "output_type": "stream",
     "text": [
      "C:\\Users\\pc\\anaconda3\\lib\\site-packages\\xgboost\\sklearn.py:1395: UserWarning: `use_label_encoder` is deprecated in 1.7.0.\n",
      "  warnings.warn(\"`use_label_encoder` is deprecated in 1.7.0.\")\n"
     ]
    },
    {
     "name": "stdout",
     "output_type": "stream",
     "text": [
      "accuracy: 1.0 (RF) \n",
      "accuracy: 1.0 (Adaboost) \n",
      "accuracy: 1.0 (GBM) \n"
     ]
    },
    {
     "name": "stderr",
     "output_type": "stream",
     "text": [
      "C:\\Users\\pc\\anaconda3\\lib\\site-packages\\xgboost\\sklearn.py:1395: UserWarning: `use_label_encoder` is deprecated in 1.7.0.\n",
      "  warnings.warn(\"`use_label_encoder` is deprecated in 1.7.0.\")\n",
      "C:\\Users\\pc\\anaconda3\\lib\\site-packages\\xgboost\\sklearn.py:1395: UserWarning: `use_label_encoder` is deprecated in 1.7.0.\n",
      "  warnings.warn(\"`use_label_encoder` is deprecated in 1.7.0.\")\n",
      "C:\\Users\\pc\\anaconda3\\lib\\site-packages\\xgboost\\sklearn.py:1395: UserWarning: `use_label_encoder` is deprecated in 1.7.0.\n",
      "  warnings.warn(\"`use_label_encoder` is deprecated in 1.7.0.\")\n"
     ]
    },
    {
     "name": "stdout",
     "output_type": "stream",
     "text": [
      "accuracy: 1.0 (XGBoost) \n",
      "accuracy: 0.9235 (LightGBM) \n"
     ]
    }
   ],
   "source": [
    "def base_models(X, y, scoring=\"roc_auc\"):\n",
    "    print(\"Base Models....\")\n",
    "    classifiers = [('LR', LogisticRegression()),\n",
    "                   ('KNN', KNeighborsClassifier()),\n",
    "                   (\"SVC\", SVC()),\n",
    "                   (\"CART\", DecisionTreeClassifier()),\n",
    "                   (\"RF\", RandomForestClassifier()),\n",
    "                   ('Adaboost', AdaBoostClassifier()),\n",
    "                   ('GBM', GradientBoostingClassifier()),\n",
    "                   ('XGBoost', XGBClassifier(use_label_encoder=False, eval_metric='logloss')),\n",
    "                   ('LightGBM', LGBMClassifier()),\n",
    "                   # ('CatBoost', CatBoostClassifier(verbose=False))\n",
    "                   ]\n",
    "\n",
    "    for name, classifier in classifiers:\n",
    "        cv_results = cross_validate(classifier, X, y, cv=3, scoring=scoring)\n",
    "        print(f\"{scoring}: {round(cv_results['test_score'].mean(), 4)} ({name}) \")\n",
    "\n",
    "base_models(X_test, y_test, scoring=\"accuracy\")"
   ]
  },
  {
   "cell_type": "markdown",
   "id": "c2499895",
   "metadata": {},
   "source": [
    "### 3.3. Hiperparametre Optimizasyonu"
   ]
  },
  {
   "cell_type": "code",
   "execution_count": 84,
   "id": "ff89ea72",
   "metadata": {},
   "outputs": [
    {
     "name": "stderr",
     "output_type": "stream",
     "text": [
      "C:\\Users\\pc\\anaconda3\\lib\\site-packages\\xgboost\\sklearn.py:1395: UserWarning: `use_label_encoder` is deprecated in 1.7.0.\n",
      "  warnings.warn(\"`use_label_encoder` is deprecated in 1.7.0.\")\n"
     ]
    }
   ],
   "source": [
    "######################################################\n",
    "# 4. Automated Hyperparameter Optimization\n",
    "######################################################\n",
    "\n",
    "knn_params = {\"n_neighbors\": range(2, 50)}\n",
    "\n",
    "cart_params = {'max_depth': range(1, 20),\n",
    "               \"min_samples_split\": range(2, 30)}\n",
    "\n",
    "rf_params = {\"max_depth\": [8, 15, None],\n",
    "             \"max_features\": [5, 7, \"auto\"],\n",
    "             \"min_samples_split\": [15, 20],\n",
    "             \"n_estimators\": [200, 300]}\n",
    "\n",
    "xgboost_params = {\"learning_rate\": [0.1, 0.01],\n",
    "                  \"max_depth\": [5, 8],\n",
    "                  \"n_estimators\": [100, 200]}\n",
    "\n",
    "lightgbm_params = {\"learning_rate\": [0.01, 0.1],\n",
    "                   \"n_estimators\": [300, 500]}\n",
    "\n",
    "\n",
    "classifiers = [('KNN', KNeighborsClassifier(), knn_params),\n",
    "               (\"CART\", DecisionTreeClassifier(), cart_params),\n",
    "               (\"RF\", RandomForestClassifier(), rf_params),\n",
    "               ('XGBoost', XGBClassifier(use_label_encoder=False, eval_metric='logloss'), xgboost_params),\n",
    "               ('LightGBM', LGBMClassifier(), lightgbm_params)]\n",
    "\n"
   ]
  },
  {
   "cell_type": "code",
   "execution_count": 85,
   "id": "7e86bee2",
   "metadata": {},
   "outputs": [],
   "source": [
    "def hyperparameter_optimization(X, y, cv=3, scoring=\"roc_auc\"):\n",
    "    print(\"Hyperparameter Optimization....\")\n",
    "    best_models = {}\n",
    "    for name, classifier, params in classifiers:\n",
    "        print(f\"########## {name} ##########\")\n",
    "        cv_results = cross_validate(classifier, X, y, cv=cv, scoring=scoring)\n",
    "        print(f\"{scoring} (Before): {round(cv_results['test_score'].mean(), 4)}\")\n",
    "\n",
    "        gs_best = GridSearchCV(classifier, params, cv=cv, n_jobs=-1, verbose=False).fit(X, y)\n",
    "        final_model = classifier.set_params(**gs_best.best_params_)\n",
    "\n",
    "        cv_results = cross_validate(final_model, X, y, cv=cv, scoring=scoring)\n",
    "        print(f\"{scoring} (After): {round(cv_results['test_score'].mean(), 4)}\")\n",
    "        print(f\"{name} best params: {gs_best.best_params_}\", end=\"\\n\\n\")\n",
    "        best_models[name] = final_model\n",
    "    return best_models\n",
    "\n"
   ]
  },
  {
   "cell_type": "code",
   "execution_count": 86,
   "id": "2376c562",
   "metadata": {},
   "outputs": [
    {
     "name": "stdout",
     "output_type": "stream",
     "text": [
      "Hyperparameter Optimization....\n",
      "########## KNN ##########\n",
      "roc_auc (Before): 1.0\n",
      "roc_auc (After): 1.0\n",
      "KNN best params: {'n_neighbors': 2}\n",
      "\n",
      "########## CART ##########\n",
      "roc_auc (Before): 1.0\n",
      "roc_auc (After): 1.0\n",
      "CART best params: {'max_depth': 3, 'min_samples_split': 2}\n",
      "\n",
      "########## RF ##########\n",
      "roc_auc (Before): 1.0\n"
     ]
    },
    {
     "name": "stderr",
     "output_type": "stream",
     "text": [
      "C:\\Users\\pc\\anaconda3\\lib\\site-packages\\sklearn\\model_selection\\_validation.py:372: FitFailedWarning: \n",
      "72 fits failed out of a total of 108.\n",
      "The score on these train-test partitions for these parameters will be set to nan.\n",
      "If these failures are not expected, you can try to debug them by setting error_score='raise'.\n",
      "\n",
      "Below are more details about the failures:\n",
      "--------------------------------------------------------------------------------\n",
      "72 fits failed with the following error:\n",
      "Traceback (most recent call last):\n",
      "  File \"C:\\Users\\pc\\anaconda3\\lib\\site-packages\\sklearn\\model_selection\\_validation.py\", line 680, in _fit_and_score\n",
      "    estimator.fit(X_train, y_train, **fit_params)\n",
      "  File \"C:\\Users\\pc\\anaconda3\\lib\\site-packages\\sklearn\\ensemble\\_forest.py\", line 450, in fit\n",
      "    trees = Parallel(\n",
      "  File \"C:\\Users\\pc\\anaconda3\\lib\\site-packages\\joblib\\parallel.py\", line 1043, in __call__\n",
      "    if self.dispatch_one_batch(iterator):\n",
      "  File \"C:\\Users\\pc\\anaconda3\\lib\\site-packages\\joblib\\parallel.py\", line 861, in dispatch_one_batch\n",
      "    self._dispatch(tasks)\n",
      "  File \"C:\\Users\\pc\\anaconda3\\lib\\site-packages\\joblib\\parallel.py\", line 779, in _dispatch\n",
      "    job = self._backend.apply_async(batch, callback=cb)\n",
      "  File \"C:\\Users\\pc\\anaconda3\\lib\\site-packages\\joblib\\_parallel_backends.py\", line 208, in apply_async\n",
      "    result = ImmediateResult(func)\n",
      "  File \"C:\\Users\\pc\\anaconda3\\lib\\site-packages\\joblib\\_parallel_backends.py\", line 572, in __init__\n",
      "    self.results = batch()\n",
      "  File \"C:\\Users\\pc\\anaconda3\\lib\\site-packages\\joblib\\parallel.py\", line 262, in __call__\n",
      "    return [func(*args, **kwargs)\n",
      "  File \"C:\\Users\\pc\\anaconda3\\lib\\site-packages\\joblib\\parallel.py\", line 262, in <listcomp>\n",
      "    return [func(*args, **kwargs)\n",
      "  File \"C:\\Users\\pc\\anaconda3\\lib\\site-packages\\sklearn\\utils\\fixes.py\", line 216, in __call__\n",
      "    return self.function(*args, **kwargs)\n",
      "  File \"C:\\Users\\pc\\anaconda3\\lib\\site-packages\\sklearn\\ensemble\\_forest.py\", line 185, in _parallel_build_trees\n",
      "    tree.fit(X, y, sample_weight=curr_sample_weight, check_input=False)\n",
      "  File \"C:\\Users\\pc\\anaconda3\\lib\\site-packages\\sklearn\\tree\\_classes.py\", line 937, in fit\n",
      "    super().fit(\n",
      "  File \"C:\\Users\\pc\\anaconda3\\lib\\site-packages\\sklearn\\tree\\_classes.py\", line 308, in fit\n",
      "    raise ValueError(\"max_features must be in (0, n_features]\")\n",
      "ValueError: max_features must be in (0, n_features]\n",
      "\n",
      "  warnings.warn(some_fits_failed_message, FitFailedWarning)\n",
      "C:\\Users\\pc\\anaconda3\\lib\\site-packages\\sklearn\\model_selection\\_search.py:969: UserWarning: One or more of the test scores are non-finite: [nan nan nan nan nan nan nan nan  1.  1.  1.  1. nan nan nan nan nan nan\n",
      " nan nan  1.  1.  1.  1. nan nan nan nan nan nan nan nan  1.  1.  1.  1.]\n",
      "  warnings.warn(\n"
     ]
    },
    {
     "name": "stdout",
     "output_type": "stream",
     "text": [
      "roc_auc (After): 1.0\n",
      "RF best params: {'max_depth': 8, 'max_features': 'auto', 'min_samples_split': 15, 'n_estimators': 200}\n",
      "\n",
      "########## XGBoost ##########\n",
      "roc_auc (Before): 1.0\n"
     ]
    },
    {
     "name": "stderr",
     "output_type": "stream",
     "text": [
      "C:\\Users\\pc\\anaconda3\\lib\\site-packages\\xgboost\\sklearn.py:1395: UserWarning: `use_label_encoder` is deprecated in 1.7.0.\n",
      "  warnings.warn(\"`use_label_encoder` is deprecated in 1.7.0.\")\n",
      "C:\\Users\\pc\\anaconda3\\lib\\site-packages\\xgboost\\sklearn.py:1395: UserWarning: `use_label_encoder` is deprecated in 1.7.0.\n",
      "  warnings.warn(\"`use_label_encoder` is deprecated in 1.7.0.\")\n",
      "C:\\Users\\pc\\anaconda3\\lib\\site-packages\\xgboost\\sklearn.py:1395: UserWarning: `use_label_encoder` is deprecated in 1.7.0.\n",
      "  warnings.warn(\"`use_label_encoder` is deprecated in 1.7.0.\")\n",
      "C:\\Users\\pc\\anaconda3\\lib\\site-packages\\xgboost\\sklearn.py:1395: UserWarning: `use_label_encoder` is deprecated in 1.7.0.\n",
      "  warnings.warn(\"`use_label_encoder` is deprecated in 1.7.0.\")\n",
      "C:\\Users\\pc\\anaconda3\\lib\\site-packages\\xgboost\\sklearn.py:1395: UserWarning: `use_label_encoder` is deprecated in 1.7.0.\n",
      "  warnings.warn(\"`use_label_encoder` is deprecated in 1.7.0.\")\n",
      "C:\\Users\\pc\\anaconda3\\lib\\site-packages\\xgboost\\sklearn.py:1395: UserWarning: `use_label_encoder` is deprecated in 1.7.0.\n",
      "  warnings.warn(\"`use_label_encoder` is deprecated in 1.7.0.\")\n",
      "C:\\Users\\pc\\anaconda3\\lib\\site-packages\\xgboost\\sklearn.py:1395: UserWarning: `use_label_encoder` is deprecated in 1.7.0.\n",
      "  warnings.warn(\"`use_label_encoder` is deprecated in 1.7.0.\")\n",
      "C:\\Users\\pc\\anaconda3\\lib\\site-packages\\xgboost\\sklearn.py:1395: UserWarning: `use_label_encoder` is deprecated in 1.7.0.\n",
      "  warnings.warn(\"`use_label_encoder` is deprecated in 1.7.0.\")\n"
     ]
    },
    {
     "name": "stdout",
     "output_type": "stream",
     "text": [
      "roc_auc (After): 1.0\n",
      "XGBoost best params: {'learning_rate': 0.1, 'max_depth': 5, 'n_estimators': 100}\n",
      "\n",
      "########## LightGBM ##########\n",
      "roc_auc (Before): 1.0\n",
      "roc_auc (After): 1.0\n",
      "LightGBM best params: {'learning_rate': 0.01, 'n_estimators': 300}\n",
      "\n"
     ]
    }
   ],
   "source": [
    "best_models = hyperparameter_optimization(X_train, y_train)"
   ]
  },
  {
   "cell_type": "markdown",
   "id": "be0424a0",
   "metadata": {},
   "source": [
    "### 3.4. En iyi Modellerin Karmasından Oluşturulan Model"
   ]
  },
  {
   "cell_type": "code",
   "execution_count": 87,
   "id": "cfb7f9bb",
   "metadata": {},
   "outputs": [],
   "source": [
    "######################################################\n",
    "# 5. Stacking & Ensemble Learning\n",
    "######################################################\n",
    "\n",
    "def voting_classifier(best_models, X, y):\n",
    "    print(\"Voting Classifier...\")\n",
    "\n",
    "    voting_clf = VotingClassifier(estimators=[('KNN', best_models[\"KNN\"]),\n",
    "                                              ('RF', best_models[\"RF\"]),\n",
    "                                              ('LightGBM', best_models[\"LightGBM\"])],\n",
    "                                  voting='soft').fit(X, y)\n",
    "\n",
    "    cv_results = cross_validate(voting_clf, X, y, cv=3, scoring=[\"accuracy\", \"f1\", \"roc_auc\"])\n",
    "    print(f\"Accuracy: {cv_results['test_accuracy'].mean()}\")\n",
    "    print(f\"F1Score: {cv_results['test_f1'].mean()}\")\n",
    "    print(f\"ROC_AUC: {cv_results['test_roc_auc'].mean()}\")\n",
    "    return voting_clf\n",
    "\n"
   ]
  },
  {
   "cell_type": "code",
   "execution_count": 88,
   "id": "0749448a",
   "metadata": {},
   "outputs": [
    {
     "name": "stdout",
     "output_type": "stream",
     "text": [
      "Voting Classifier...\n",
      "Accuracy: 1.0\n",
      "F1Score: 1.0\n",
      "ROC_AUC: 1.0\n"
     ]
    }
   ],
   "source": [
    "voting_clf = voting_classifier(best_models, X_train, y_train)"
   ]
  },
  {
   "cell_type": "markdown",
   "id": "0ade63be",
   "metadata": {},
   "source": [
    "### 3.5. En Başarılı Modelde Hata Oranı"
   ]
  },
  {
   "cell_type": "code",
   "execution_count": 89,
   "id": "39134e62",
   "metadata": {},
   "outputs": [],
   "source": [
    "train_pred=voting_clf.predict(X_train)\n",
    "val_pred=voting_clf.predict(X_validation)\n",
    "test_pred=voting_clf.predict(X_test)"
   ]
  },
  {
   "cell_type": "code",
   "execution_count": 90,
   "id": "16160a86",
   "metadata": {},
   "outputs": [],
   "source": [
    "from sklearn.metrics import accuracy_score\n",
    "\n",
    "def calculate_accuracy_for_custom_splits(y_true_train, y_pred_train, y_true_val, y_pred_val, y_true_test, y_pred_test):\n",
    "    \"\"\"\n",
    "    Verilen gerçek ve tahmin edilen değerler için doğruluk hesaplar.\n",
    "\n",
    "    Parameters:\n",
    "    - y_true_train: Eğitim setindeki gerçek değerler\n",
    "    - y_pred_train: Eğitim setindeki tahmin edilen değerler\n",
    "    - y_true_val: Doğrulama setindeki gerçek değerler\n",
    "    - y_pred_val: Doğrulama setindeki tahmin edilen değerler\n",
    "    - y_true_test: Test setindeki gerçek değerler\n",
    "    - y_pred_test: Test setindeki tahmin edilen değerler\n",
    "\n",
    "    Returns:\n",
    "    - train_accuracy: Eğitim seti doğruluğu\n",
    "    - val_accuracy: Doğrulama seti doğruluğu\n",
    "    - test_accuracy: Test seti doğruluğu\n",
    "    \"\"\"\n",
    "\n",
    "    # Eğitim setinde doğruluk hesapla\n",
    "    train_accuracy = accuracy_score(y_true_train, y_pred_train)\n",
    "\n",
    "    # Doğrulama setinde doğruluk hesapla\n",
    "    val_accuracy = accuracy_score(y_true_val, y_pred_val)\n",
    "\n",
    "    # Test setinde doğruluk hesapla\n",
    "    test_accuracy = accuracy_score(y_true_test, y_pred_test)\n",
    "\n",
    "    print(f\"Train Accuracy: {train_accuracy}\")\n",
    "    print(f\"Validation Accuracy: {val_accuracy}\")\n",
    "    print(f\"Test Accuracy: {test_accuracy}\")\n",
    "\n",
    "    return train_accuracy, val_accuracy, test_accuracy"
   ]
  },
  {
   "cell_type": "code",
   "execution_count": 91,
   "id": "f46c54e7",
   "metadata": {},
   "outputs": [
    {
     "name": "stdout",
     "output_type": "stream",
     "text": [
      "Train Accuracy: 1.0\n",
      "Validation Accuracy: 1.0\n",
      "Test Accuracy: 1.0\n"
     ]
    },
    {
     "data": {
      "text/plain": [
       "(1.0, 1.0, 1.0)"
      ]
     },
     "execution_count": 91,
     "metadata": {},
     "output_type": "execute_result"
    }
   ],
   "source": [
    "calculate_accuracy_for_custom_splits(y_train, train_pred,y_validation, val_pred, y_test, test_pred)"
   ]
  },
  {
   "cell_type": "markdown",
   "id": "bc37414e",
   "metadata": {},
   "source": [
    "### 3.6. Model Kayıt"
   ]
  },
  {
   "cell_type": "code",
   "execution_count": 93,
   "id": "cfee6685",
   "metadata": {},
   "outputs": [
    {
     "data": {
      "text/plain": [
       "['voting_clf2.pkl']"
      ]
     },
     "execution_count": 93,
     "metadata": {},
     "output_type": "execute_result"
    }
   ],
   "source": [
    "joblib.dump(voting_clf, \"voting_clf2.pkl\")"
   ]
  },
  {
   "cell_type": "markdown",
   "id": "a35e865f",
   "metadata": {},
   "source": [
    "### 3.7. Model Çağırma"
   ]
  },
  {
   "cell_type": "code",
   "execution_count": 94,
   "id": "ff32051a",
   "metadata": {},
   "outputs": [
    {
     "data": {
      "text/plain": [
       "array([0], dtype=int64)"
      ]
     },
     "execution_count": 94,
     "metadata": {},
     "output_type": "execute_result"
    }
   ],
   "source": [
    "random_user = X.sample(1, random_state=45)\n",
    "new_model = joblib.load(\"voting_clf2.pkl\")\n",
    "new_model.predict(random_user)"
   ]
  }
 ],
 "metadata": {
  "kernelspec": {
   "display_name": "Python 3 (ipykernel)",
   "language": "python",
   "name": "python3"
  },
  "language_info": {
   "codemirror_mode": {
    "name": "ipython",
    "version": 3
   },
   "file_extension": ".py",
   "mimetype": "text/x-python",
   "name": "python",
   "nbconvert_exporter": "python",
   "pygments_lexer": "ipython3",
   "version": "3.9.13"
  }
 },
 "nbformat": 4,
 "nbformat_minor": 5
}
